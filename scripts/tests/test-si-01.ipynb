{
 "cells": [
  {
   "cell_type": "markdown",
   "metadata": {},
   "source": [
    "### This is a test for writing notebook for MD++\n",
    "\n",
    "Things to fix:   \n",
    "1) eval() results are printed to terminal but not in cell. IO needs to be redirected.  \n",
    "2) view pops out a window which should ideally embedded in the notebook (if possible).  \n",
    "after closing window or type \"q\", kenerl interupted due to the sys.exit() call in View.py.\n",
    "message: \"Kernel is dead ``The kernel appears to have died. It will restart automatically\"   \n",
    "3) a matlplotlib script should be useful to develop test cases. or use ovito.  \n",
    "4) click on atom to show that atom position is not implemented.  \n",
    "5) atom bonds plotting is not implemented.\n",
    "\n",
    "\n",
    "<img src=\"test.jpg\" width=\"400\" height=\"400\">"
   ]
  },
  {
   "cell_type": "code",
   "execution_count": 1,
   "metadata": {},
   "outputs": [],
   "source": [
    "from OpenGL.GLUT import *\n",
    "from OpenGL.GLU import *\n",
    "from OpenGL.GL import *\n",
    "import sys\n",
    "\n",
    "sys.path.append('/Users/x/Downloads/GraphicsScratch/axiom/lib/')\n",
    "import mdsw\n",
    "from View import Viewer"
   ]
  },
  {
   "cell_type": "markdown",
   "metadata": {},
   "source": [
    "#### Define a relax_fixbox function"
   ]
  },
  {
   "cell_type": "code",
   "execution_count": 2,
   "metadata": {},
   "outputs": [],
   "source": [
    "\"\"\" Conjugate-Gradient relaxation \"\"\"\n",
    "def relax_fixbox(obj,relaxsteps):\n",
    "    obj.conj_ftol = 1e-7\n",
    "    obj.conj_itmax = 1000\n",
    "    obj.conj_fevalmax = relaxsteps\n",
    "    obj.conj_fixbox = 1\n",
    "    obj.relax()"
   ]
  },
  {
   "cell_type": "markdown",
   "metadata": {},
   "source": [
    "#### Main program. Note how SR and fixed are exported from MD++ to a numpy array."
   ]
  },
  {
   "cell_type": "code",
   "execution_count": 3,
   "metadata": {},
   "outputs": [
    {
     "name": "stdout",
     "output_type": "stream",
     "text": [
      "[[-0.5    -0.5    -0.5   ]\n",
      " [-0.375  -0.375  -0.5   ]\n",
      " [-0.5    -0.375  -0.375 ]\n",
      " ...\n",
      " [ 0.4375  0.4375  0.3125]\n",
      " [ 0.3125  0.4375  0.4375]\n",
      " [ 0.4375  0.3125  0.4375]]\n",
      "Test fixed()\n",
      "0\n",
      "1\n"
     ]
    }
   ],
   "source": [
    "\"\"\" Main Program Starts\n",
    "\"\"\"\n",
    "sw = mdsw.SWFrame()\n",
    "sw.initvars()\n",
    "sw.dirname = \"runs/si-example\"\n",
    "sw.crystalstructure = \"diamond-cubic\"\n",
    "sw.latticeconst = mdsw.VectorDouble([5.4309529817532409, 5.4309529817532409, 5.4309529817532409])\n",
    "sw.latticesize = mdsw.VectorDouble([ 1 ,0, 0, 4,  0, 1, 0, 4,  0, 0, 1, 4 ])\n",
    "sw.makecrystal()\n",
    "sw.finalcnfile = \"relaxed.cn\"\n",
    "sw.writecn(0,False)\n",
    "sw.eval()\n",
    "\n",
    "y = sw.SR()\n",
    "print(y)\n",
    "print(\"Test fixed()\")\n",
    "f = sw.fixed()\n",
    "print(f[0])\n",
    "f[0] = 1\n",
    "print(f[0])"
   ]
  },
  {
   "cell_type": "markdown",
   "metadata": {},
   "source": [
    "#### View.py is a help script to visualize atoms as many spheres. It requires pyOpenGL. Install that with   \n",
    "::> pip install PyOpenGL PyOpenGL_accelerate\n",
    "sw is passed to Viewer which renders all  \n",
    "sw.SR[sw.fixed==1,:] as gluSolidSpheres."
   ]
  },
  {
   "cell_type": "code",
   "execution_count": 4,
   "metadata": {},
   "outputs": [],
   "source": [
    "sw.eval()"
   ]
  },
  {
   "cell_type": "code",
   "execution_count": null,
   "metadata": {},
   "outputs": [
    {
     "name": "stdout",
     "output_type": "stream",
     "text": [
      "\n",
      "\n",
      "\n",
      "             -------------------------------------------------------------------\n",
      "\n",
      "             Left Mousebutton       - move eye position (+ Shift for third axis)\n",
      "\n",
      "             Middle Mousebutton     - translate the scene\n",
      "\n",
      "             Right Mousebutton      - move up / down to zoom in / out\n",
      "\n",
      "             key (r)                - reset viewpoint\n",
      "\n",
      "             key (z)                - zoom in (not working yet)\n",
      "\n",
      "             Key (q)                - exit the viewer\n",
      "\n",
      "             -------------------------------------------------------------------\n",
      "\n",
      "             \n",
      "\n"
     ]
    }
   ],
   "source": [
    "view = Viewer(sw, 600, 600)\n",
    "view.rendering()\n",
    "sw.sleep()\n",
    "relax_fixbox(sw,1000)"
   ]
  },
  {
   "cell_type": "code",
   "execution_count": null,
   "metadata": {},
   "outputs": [],
   "source": []
  }
 ],
 "metadata": {
  "kernelspec": {
   "display_name": "Python 3",
   "language": "python",
   "name": "python3"
  },
  "language_info": {
   "codemirror_mode": {
    "name": "ipython",
    "version": 3
   },
   "file_extension": ".py",
   "mimetype": "text/x-python",
   "name": "python",
   "nbconvert_exporter": "python",
   "pygments_lexer": "ipython3",
   "version": "3.6.5"
  }
 },
 "nbformat": 4,
 "nbformat_minor": 2
}
